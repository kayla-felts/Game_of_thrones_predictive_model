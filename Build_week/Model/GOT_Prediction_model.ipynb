{
 "cells": [
  {
   "cell_type": "code",
   "execution_count": 1,
   "metadata": {},
   "outputs": [],
   "source": [
    "#Import Libraries\n",
    "from sklearn.model_selection import train_test_split\n",
    "import matplotlib.pyplot as plt\n",
    "import pandas as pd\n",
    "from sklearn.pipeline import make_pipeline\n",
    "from sklearn.preprocessing import StandardScaler\n",
    "from sklearn.ensemble import RandomForestClassifier\n",
    "from sklearn.impute import SimpleImputer\n",
    "from sklearn.inspection import permutation_importance\n",
    "from category_encoders import OrdinalEncoder\n",
    "from xgboost import XGBClassifier\n",
    "from pdpbox.pdp import pdp_isolate, pdp_plot\n",
    "import shap"
   ]
  },
  {
   "cell_type": "code",
   "execution_count": 2,
   "metadata": {},
   "outputs": [
    {
     "name": "stdout",
     "output_type": "stream",
     "text": [
      "<class 'pandas.core.frame.DataFrame'>\n",
      "RangeIndex: 1946 entries, 0 to 1945\n",
      "Data columns (total 33 columns):\n",
      " #   Column             Non-Null Count  Dtype  \n",
      "---  ------             --------------  -----  \n",
      " 0   S.No               1946 non-null   int64  \n",
      " 1   actual             1946 non-null   int64  \n",
      " 2   pred               1946 non-null   int64  \n",
      " 3   alive              1946 non-null   float64\n",
      " 4   plod               1946 non-null   float64\n",
      " 5   name               1946 non-null   object \n",
      " 6   title              938 non-null    object \n",
      " 7   male               1946 non-null   int64  \n",
      " 8   culture            677 non-null    object \n",
      " 9   dateOfBirth        433 non-null    float64\n",
      " 10  DateoFdeath        444 non-null    float64\n",
      " 11  mother             21 non-null     object \n",
      " 12  father             26 non-null     object \n",
      " 13  heir               23 non-null     object \n",
      " 14  house              1519 non-null   object \n",
      " 15  spouse             276 non-null    object \n",
      " 16  book1              1946 non-null   int64  \n",
      " 17  book2              1946 non-null   int64  \n",
      " 18  book3              1946 non-null   int64  \n",
      " 19  book4              1946 non-null   int64  \n",
      " 20  book5              1946 non-null   int64  \n",
      " 21  isAliveMother      21 non-null     float64\n",
      " 22  isAliveFather      26 non-null     float64\n",
      " 23  isAliveHeir        23 non-null     float64\n",
      " 24  isAliveSpouse      276 non-null    float64\n",
      " 25  isMarried          1946 non-null   int64  \n",
      " 26  isNoble            1946 non-null   int64  \n",
      " 27  age                433 non-null    float64\n",
      " 28  numDeadRelations   1946 non-null   int64  \n",
      " 29  boolDeadRelations  1946 non-null   int64  \n",
      " 30  isPopular          1946 non-null   int64  \n",
      " 31  popularity         1946 non-null   float64\n",
      " 32  isAlive            1946 non-null   int64  \n",
      "dtypes: float64(10), int64(15), object(8)\n",
      "memory usage: 501.8+ KB\n"
     ]
    }
   ],
   "source": [
    "#Read and view data\n",
    "data_path = ('../data/')\n",
    "df = pd.read_csv(data_path+'character_predictions/character_predictions.csv')\n",
    "df.info()"
   ]
  },
  {
   "cell_type": "code",
   "execution_count": 3,
   "metadata": {},
   "outputs": [
    {
     "data": {
      "text/html": [
       "<div>\n",
       "<style scoped>\n",
       "    .dataframe tbody tr th:only-of-type {\n",
       "        vertical-align: middle;\n",
       "    }\n",
       "\n",
       "    .dataframe tbody tr th {\n",
       "        vertical-align: top;\n",
       "    }\n",
       "\n",
       "    .dataframe thead th {\n",
       "        text-align: right;\n",
       "    }\n",
       "</style>\n",
       "<table border=\"1\" class=\"dataframe\">\n",
       "  <thead>\n",
       "    <tr style=\"text-align: right;\">\n",
       "      <th></th>\n",
       "      <th>S.No</th>\n",
       "      <th>actual</th>\n",
       "      <th>pred</th>\n",
       "      <th>alive</th>\n",
       "      <th>plod</th>\n",
       "      <th>name</th>\n",
       "      <th>title</th>\n",
       "      <th>male</th>\n",
       "      <th>culture</th>\n",
       "      <th>dateOfBirth</th>\n",
       "      <th>...</th>\n",
       "      <th>isAliveHeir</th>\n",
       "      <th>isAliveSpouse</th>\n",
       "      <th>isMarried</th>\n",
       "      <th>isNoble</th>\n",
       "      <th>age</th>\n",
       "      <th>numDeadRelations</th>\n",
       "      <th>boolDeadRelations</th>\n",
       "      <th>isPopular</th>\n",
       "      <th>popularity</th>\n",
       "      <th>isAlive</th>\n",
       "    </tr>\n",
       "  </thead>\n",
       "  <tbody>\n",
       "    <tr>\n",
       "      <th>0</th>\n",
       "      <td>1</td>\n",
       "      <td>0</td>\n",
       "      <td>0</td>\n",
       "      <td>0.054</td>\n",
       "      <td>0.946</td>\n",
       "      <td>Viserys II Targaryen</td>\n",
       "      <td>NaN</td>\n",
       "      <td>1</td>\n",
       "      <td>NaN</td>\n",
       "      <td>NaN</td>\n",
       "      <td>...</td>\n",
       "      <td>0.0</td>\n",
       "      <td>NaN</td>\n",
       "      <td>0</td>\n",
       "      <td>0</td>\n",
       "      <td>NaN</td>\n",
       "      <td>11</td>\n",
       "      <td>1</td>\n",
       "      <td>1</td>\n",
       "      <td>0.605351</td>\n",
       "      <td>0</td>\n",
       "    </tr>\n",
       "    <tr>\n",
       "      <th>1</th>\n",
       "      <td>2</td>\n",
       "      <td>1</td>\n",
       "      <td>0</td>\n",
       "      <td>0.387</td>\n",
       "      <td>0.613</td>\n",
       "      <td>Walder Frey</td>\n",
       "      <td>Lord of the Crossing</td>\n",
       "      <td>1</td>\n",
       "      <td>Rivermen</td>\n",
       "      <td>208.0</td>\n",
       "      <td>...</td>\n",
       "      <td>NaN</td>\n",
       "      <td>1.0</td>\n",
       "      <td>1</td>\n",
       "      <td>1</td>\n",
       "      <td>97.0</td>\n",
       "      <td>1</td>\n",
       "      <td>1</td>\n",
       "      <td>1</td>\n",
       "      <td>0.896321</td>\n",
       "      <td>1</td>\n",
       "    </tr>\n",
       "    <tr>\n",
       "      <th>2</th>\n",
       "      <td>3</td>\n",
       "      <td>1</td>\n",
       "      <td>0</td>\n",
       "      <td>0.493</td>\n",
       "      <td>0.507</td>\n",
       "      <td>Addison Hill</td>\n",
       "      <td>Ser</td>\n",
       "      <td>1</td>\n",
       "      <td>NaN</td>\n",
       "      <td>NaN</td>\n",
       "      <td>...</td>\n",
       "      <td>NaN</td>\n",
       "      <td>NaN</td>\n",
       "      <td>0</td>\n",
       "      <td>1</td>\n",
       "      <td>NaN</td>\n",
       "      <td>0</td>\n",
       "      <td>0</td>\n",
       "      <td>0</td>\n",
       "      <td>0.267559</td>\n",
       "      <td>1</td>\n",
       "    </tr>\n",
       "    <tr>\n",
       "      <th>3</th>\n",
       "      <td>4</td>\n",
       "      <td>0</td>\n",
       "      <td>0</td>\n",
       "      <td>0.076</td>\n",
       "      <td>0.924</td>\n",
       "      <td>Aemma Arryn</td>\n",
       "      <td>Queen</td>\n",
       "      <td>0</td>\n",
       "      <td>NaN</td>\n",
       "      <td>82.0</td>\n",
       "      <td>...</td>\n",
       "      <td>NaN</td>\n",
       "      <td>0.0</td>\n",
       "      <td>1</td>\n",
       "      <td>1</td>\n",
       "      <td>23.0</td>\n",
       "      <td>0</td>\n",
       "      <td>0</td>\n",
       "      <td>0</td>\n",
       "      <td>0.183946</td>\n",
       "      <td>0</td>\n",
       "    </tr>\n",
       "    <tr>\n",
       "      <th>4</th>\n",
       "      <td>5</td>\n",
       "      <td>1</td>\n",
       "      <td>1</td>\n",
       "      <td>0.617</td>\n",
       "      <td>0.383</td>\n",
       "      <td>Sylva Santagar</td>\n",
       "      <td>Greenstone</td>\n",
       "      <td>0</td>\n",
       "      <td>Dornish</td>\n",
       "      <td>276.0</td>\n",
       "      <td>...</td>\n",
       "      <td>NaN</td>\n",
       "      <td>1.0</td>\n",
       "      <td>1</td>\n",
       "      <td>1</td>\n",
       "      <td>29.0</td>\n",
       "      <td>0</td>\n",
       "      <td>0</td>\n",
       "      <td>0</td>\n",
       "      <td>0.043478</td>\n",
       "      <td>1</td>\n",
       "    </tr>\n",
       "  </tbody>\n",
       "</table>\n",
       "<p>5 rows × 33 columns</p>\n",
       "</div>"
      ],
      "text/plain": [
       "   S.No  actual  pred  alive   plod                  name  \\\n",
       "0     1       0     0  0.054  0.946  Viserys II Targaryen   \n",
       "1     2       1     0  0.387  0.613           Walder Frey   \n",
       "2     3       1     0  0.493  0.507          Addison Hill   \n",
       "3     4       0     0  0.076  0.924           Aemma Arryn   \n",
       "4     5       1     1  0.617  0.383        Sylva Santagar   \n",
       "\n",
       "                  title  male   culture  dateOfBirth  ...  isAliveHeir  \\\n",
       "0                   NaN     1       NaN          NaN  ...          0.0   \n",
       "1  Lord of the Crossing     1  Rivermen        208.0  ...          NaN   \n",
       "2                   Ser     1       NaN          NaN  ...          NaN   \n",
       "3                 Queen     0       NaN         82.0  ...          NaN   \n",
       "4            Greenstone     0   Dornish        276.0  ...          NaN   \n",
       "\n",
       "  isAliveSpouse isMarried isNoble   age numDeadRelations  boolDeadRelations  \\\n",
       "0           NaN         0       0   NaN               11                  1   \n",
       "1           1.0         1       1  97.0                1                  1   \n",
       "2           NaN         0       1   NaN                0                  0   \n",
       "3           0.0         1       1  23.0                0                  0   \n",
       "4           1.0         1       1  29.0                0                  0   \n",
       "\n",
       "   isPopular  popularity  isAlive  \n",
       "0          1    0.605351        0  \n",
       "1          1    0.896321        1  \n",
       "2          0    0.267559        1  \n",
       "3          0    0.183946        0  \n",
       "4          0    0.043478        1  \n",
       "\n",
       "[5 rows x 33 columns]"
      ]
     },
     "execution_count": 3,
     "metadata": {},
     "output_type": "execute_result"
    }
   ],
   "source": [
    "df.head()"
   ]
  },
  {
   "cell_type": "markdown",
   "metadata": {},
   "source": [
    "This was hard to decide which columns to drop as personally I know that in the series things such as houses and hiers, sposes, parents, and popularity all contributed to whether a person survived or not."
   ]
  },
  {
   "cell_type": "code",
   "execution_count": 4,
   "metadata": {},
   "outputs": [],
   "source": [
    "#Write wrangle function\n",
    "def wrangle(filepath):\n",
    "    #Read data\n",
    "    df = pd.read_csv(filepath,\n",
    "                     #Set index column\n",
    "                    index_col='S.No')\n",
    "    \n",
    "    #select columns to drop\n",
    "    drop_cols = df[['actual','pred', 'book1', 'book2', 'book3', 'book4', 'book5', 'isPopular']]\n",
    "    \n",
    "    #drop columns from data frame\n",
    "    df.drop(columns=drop_cols, inplace=True)\n",
    "    \n",
    "    #fill age na values\n",
    "    df['age'].fillna(0, inplace=True)\n",
    "    \n",
    "    #Change age from float to int\n",
    "    df['age'].astype(int)\n",
    "    \n",
    "    #return datafram\n",
    "    return df\n",
    "\n",
    "#apply wrangle function\n",
    "df = wrangle(data_path+'character_predictions/character_predictions.csv')"
   ]
  },
  {
   "cell_type": "code",
   "execution_count": 5,
   "metadata": {},
   "outputs": [
    {
     "name": "stdout",
     "output_type": "stream",
     "text": [
      "The shape of y is: (1946,)\n",
      "The shape of X is: (1946, 23)\n"
     ]
    }
   ],
   "source": [
    "#Set target\n",
    "target = 'isAlive'\n",
    "\n",
    "#Creat target vector\n",
    "y = df[target]\n",
    "\n",
    "#Create feature matrix\n",
    "X = df.drop(columns=target)\n",
    "\n",
    "#Check shape\n",
    "print('The shape of y is:', y.shape)\n",
    "print('The shape of X is:', X.shape)"
   ]
  },
  {
   "cell_type": "code",
   "execution_count": 6,
   "metadata": {},
   "outputs": [],
   "source": [
    "#Split data into training and validation sets\n",
    "X_train, X_val, y_train, y_val = train_test_split(X, y, test_size=0.2, random_state=26)"
   ]
  },
  {
   "cell_type": "markdown",
   "metadata": {},
   "source": [
    "Even though our majority class is imbalanced we should still set a baseline score and we will use other evaluations as well"
   ]
  },
  {
   "cell_type": "code",
   "execution_count": 7,
   "metadata": {},
   "outputs": [
    {
     "name": "stdout",
     "output_type": "stream",
     "text": [
      "Baseline accuracy score: 0.7429305912596401\n"
     ]
    }
   ],
   "source": [
    "#Establish baseline accuracy\n",
    "print('Baseline accuracy score:',y_train.value_counts(normalize=True).max())"
   ]
  },
  {
   "cell_type": "markdown",
   "metadata": {},
   "source": [
    "This is just a quick model to satisfy the assignment requirements and not the final model I plan on using."
   ]
  },
  {
   "cell_type": "code",
   "execution_count": 8,
   "metadata": {},
   "outputs": [
    {
     "data": {
      "text/plain": [
       "Pipeline(steps=[('ordinalencoder',\n",
       "                 OrdinalEncoder(cols=['name', 'title', 'culture', 'mother',\n",
       "                                      'father', 'heir', 'house', 'spouse'],\n",
       "                                mapping=[{'col': 'name',\n",
       "                                          'data_type': dtype('O'),\n",
       "                                          'mapping': Ulf the Ill           1\n",
       "Mathis Frey           2\n",
       "Torbert               3\n",
       "Ulf son of Umar       4\n",
       "Ned (ferryman)        5\n",
       "                   ... \n",
       "Zia Frey           1553\n",
       "Tywin Lannister    1554\n",
       "Ryger Rivers       1555\n",
       "Old Henly          1556\n",
       "NaN                  -2\n",
       "Length: 1557, dtype: int64},\n",
       "                                         {'col': 'title',\n",
       "                                          'data_type'...\n",
       "Length: 309, dtype: int64},\n",
       "                                         {'col': 'spouse',\n",
       "                                          'data_type': dtype('O'),\n",
       "                                          'mapping': NaN                    1\n",
       "Bethany Ryswell        2\n",
       "Balon Greyjoy          3\n",
       "Ysilla Royce           4\n",
       "Aegon II               5\n",
       "                    ... \n",
       "Darlessa Marbrand    199\n",
       "Myriame Manderly     200\n",
       "Lythene Frey         201\n",
       "Ormund Baratheon     202\n",
       "Joanna Lannister     203\n",
       "Length: 203, dtype: int64}])),\n",
       "                ('simpleimputer', SimpleImputer(strategy='median')),\n",
       "                ('randomforestclassifier',\n",
       "                 RandomForestClassifier(n_jobs=-2, random_state=26))])"
      ]
     },
     "execution_count": 8,
     "metadata": {},
     "output_type": "execute_result"
    }
   ],
   "source": [
    "#Build model\n",
    "model = make_pipeline(\n",
    "    OrdinalEncoder(), \n",
    "    SimpleImputer(strategy='median'), \n",
    "    RandomForestClassifier(n_estimators=100, random_state=26, n_jobs=-2)\n",
    ")\n",
    "\n",
    "#Fit model\n",
    "model.fit(X_train, y_train)"
   ]
  },
  {
   "cell_type": "code",
   "execution_count": 9,
   "metadata": {},
   "outputs": [
    {
     "name": "stdout",
     "output_type": "stream",
     "text": [
      "Train set accuracy: 1.0\n",
      "Validation set accuracy: 0.9\n"
     ]
    }
   ],
   "source": [
    "#Check metrics\n",
    "print('Train set accuracy:', model.score(X_train, y_train))\n",
    "print('Validation set accuracy:', model.score(X_val, y_val))"
   ]
  },
  {
   "cell_type": "code",
   "execution_count": 10,
   "metadata": {},
   "outputs": [
    {
     "name": "stdout",
     "output_type": "stream",
     "text": [
      "Permutated Validation set accuracy 0.8897435897435897\n"
     ]
    }
   ],
   "source": [
    "#Get permutated importances\n",
    "permutated = permutation_importance(model, \n",
    "                                 X_val, \n",
    "                                 y_val,\n",
    "                                 n_repeats=5, \n",
    "                                 n_jobs=-2, \n",
    "                                 random_state=26 )\n",
    "#Train model on top 5 importances\n",
    "cols_drop = X_val.columns\n",
    "\n",
    "X_train_top_5 = X_train[pd.Series(permutated['importances_mean'], index=cols_drop).sort_values().tail(5).index]\n",
    "X_val_top_5 =  X_val[pd.Series(permutated['importances_mean'], index=cols_drop).sort_values().tail(5).index]\n",
    "\n",
    "permutated_model = make_pipeline(\n",
    "    OrdinalEncoder(), \n",
    "    SimpleImputer(strategy='median'), \n",
    "    RandomForestClassifier(n_estimators=100, random_state=26, n_jobs=-2)\n",
    ")\n",
    "\n",
    "permutated_model.fit(X_train_top_5, y_train)\n",
    "print('Permutated Validation set accuracy', permutated_model.score(X_val_top_5, y_val))"
   ]
  },
  {
   "cell_type": "code",
   "execution_count": 11,
   "metadata": {},
   "outputs": [
    {
     "data": {
      "text/plain": [
       "Text(0, 0.5, 'feature name')"
      ]
     },
     "execution_count": 11,
     "metadata": {},
     "output_type": "execute_result"
    },
    {
     "data": {
      "image/png": "[encoded data removed]",
      "text/plain": [
       "<Figure size 432x288 with 1 Axes>"
      ]
     },
     "metadata": {
      "needs_background": "light"
     },
     "output_type": "display_data"
    }
   ],
   "source": [
    "#Visualize what the top importances are\n",
    "pd.Series(permutated['importances_mean'], index=cols_drop).sort_values().tail(10).plot(kind='barh')\n",
    "plt.xlabel('premutation importance')\n",
    "plt.ylabel('feature name')"
   ]
  },
  {
   "cell_type": "code",
   "execution_count": 12,
   "metadata": {},
   "outputs": [
    {
     "data": {
      "text/plain": [
       "Pipeline(steps=[('ordinalencoder',\n",
       "                 OrdinalEncoder(cols=['name', 'title', 'culture', 'mother',\n",
       "                                      'father', 'heir', 'house', 'spouse'],\n",
       "                                mapping=[{'col': 'name',\n",
       "                                          'data_type': dtype('O'),\n",
       "                                          'mapping': Ulf the Ill           1\n",
       "Mathis Frey           2\n",
       "Torbert               3\n",
       "Ulf son of Umar       4\n",
       "Ned (ferryman)        5\n",
       "                   ... \n",
       "Zia Frey           1553\n",
       "Tywin Lannister    1554\n",
       "Ryger Rivers       1555\n",
       "Old Henly          1556\n",
       "NaN                  -2\n",
       "Length: 1557, dtype: int64},\n",
       "                                         {'col': 'title',\n",
       "                                          'data_type'...\n",
       "                               colsample_bytree=1, gamma=0, gpu_id=-1,\n",
       "                               importance_type='gain',\n",
       "                               interaction_constraints='', learning_rate=0.001,\n",
       "                               max_delta_step=0, max_depth=20,\n",
       "                               min_child_weight=1, missing=nan,\n",
       "                               monotone_constraints='()', n_estimators=100,\n",
       "                               n_jobs=-2, num_parallel_tree=1, random_state=0,\n",
       "                               reg_alpha=0, reg_lambda=1, scale_pos_weight=1,\n",
       "                               subsample=1, tree_method='exact',\n",
       "                               validate_parameters=1, verbosity=None))])"
      ]
     },
     "execution_count": 12,
     "metadata": {},
     "output_type": "execute_result"
    }
   ],
   "source": [
    "#Use xgboost to create new model\n",
    "xgb_model = make_pipeline(OrdinalEncoder(),\n",
    "                         XGBClassifier(n_estimators=100,\n",
    "                                      max_depth=20,\n",
    "                                      learning_rate=1e-3,\n",
    "                                      n_jobs=-2))\n",
    "\n",
    "#Fit model\n",
    "xgb_model.fit(X_train, y_train)"
   ]
  },
  {
   "cell_type": "code",
   "execution_count": 13,
   "metadata": {},
   "outputs": [
    {
     "name": "stdout",
     "output_type": "stream",
     "text": [
      "XGBoost Training set accuracy 0.9967866323907455\n",
      "XGBoost Validation set accuracy 0.9871794871794872\n"
     ]
    }
   ],
   "source": [
    "#Check metric of new model\n",
    "print('XGBoost Training set accuracy',xgb_model.score(X_train, y_train))\n",
    "print('XGBoost Validation set accuracy',xgb_model.score(X_val, y_val))"
   ]
  },
  {
   "cell_type": "code",
   "execution_count": 14,
   "metadata": {},
   "outputs": [
    {
     "data": {
      "text/plain": [
       "XGBClassifier(base_score=0.5, booster='gbtree', colsample_bylevel=1,\n",
       "              colsample_bynode=1, colsample_bytree=1, gamma=0, gpu_id=-1,\n",
       "              importance_type='gain', interaction_constraints='',\n",
       "              learning_rate=0.300000012, max_delta_step=0, max_depth=6,\n",
       "              min_child_weight=1, missing=nan, monotone_constraints='()',\n",
       "              n_estimators=200, n_jobs=-2, num_parallel_tree=1, random_state=0,\n",
       "              reg_alpha=0, reg_lambda=1, scale_pos_weight=1, subsample=1,\n",
       "              tree_method='exact', validate_parameters=1, verbosity=None)"
      ]
     },
     "execution_count": 14,
     "metadata": {},
     "output_type": "execute_result"
    }
   ],
   "source": [
    "#Make partial dependency plot to see how a feature is related to the target for prediction model\n",
    "#Retrain model to create partial dependency plot\n",
    "encoder = OrdinalEncoder()\n",
    "X_train_T = encoder.fit_transform(X_train)\n",
    "X_val_T = encoder.transform(X_val)\n",
    "pdp_model = XGBClassifier(n_estimators=200, n_jobs=-2)\n",
    "\n",
    "#Fit model\n",
    "pdp_model.fit(X_train_T, y_train)"
   ]
  },
  {
   "cell_type": "code",
   "execution_count": 22,
   "metadata": {},
   "outputs": [
    {
     "data": {
      "image/png": "[encoded data removed]",
      "text/plain": [
       "<Figure size 1080x684 with 2 Axes>"
      ]
     },
     "metadata": {
      "needs_background": "light"
     },
     "output_type": "display_data"
    }
   ],
   "source": [
    "#Select feature to observe\n",
    "feature = 'house'\n",
    "\n",
    "#Create plot\n",
    "isolated = pdp_isolate(model=pdp_model, dataset=X_val_T, model_features=X_val_T.columns, feature=feature)\n",
    "pdp_plot(isolated, feature);\n",
    "\n",
    "plt.savefig('isolated.jpg')"
   ]
  },
  {
   "cell_type": "code",
   "execution_count": null,
   "metadata": {},
   "outputs": [],
   "source": [
    "#make shap model to see specifically how the feature affects the prediction\n",
    "#Select single observation to view and transform it\n",
    "row = X_val.iloc[[1]]\n",
    "row = encoder.transform(row)\n",
    "\n",
    "#predict\n",
    "pdp_model.predict(row)\n",
    "\n",
    "explainer = shap.TreeExplainer(pdp_model) \n",
    "shap_values = explainer.shap_values(row)\n",
    "shap_values \n",
    "\n",
    "shap.initjs()\n",
    "shap.force_plot(\n",
    "                base_value=explainer.expected_value,\n",
    "                shap_values=shap_values,\n",
    "                features=row)"
   ]
  }
 ],
 "metadata": {
  "kernelspec": {
   "display_name": "Python 3",
   "language": "python",
   "name": "python3"
  },
  "language_info": {
   "codemirror_mode": {
    "name": "ipython",
    "version": 3
   },
   "file_extension": ".py",
   "mimetype": "text/x-python",
   "name": "python",
   "nbconvert_exporter": "python",
   "pygments_lexer": "ipython3",
   "version": "3.8.8"
  }
 },
 "nbformat": 4,
 "nbformat_minor": 1
}
